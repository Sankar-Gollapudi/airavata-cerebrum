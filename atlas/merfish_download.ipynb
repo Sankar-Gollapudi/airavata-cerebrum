{
 "cells": [
  {
   "cell_type": "code",
   "execution_count": 1,
   "id": "aa9d5be8",
   "metadata": {},
   "outputs": [
    {
     "name": "stdout",
     "output_type": "stream",
     "text": [
      "/storage/home/hhive1/schockalingam6/data2/airavata-cerebrum/atlas\n"
     ]
    }
   ],
   "source": [
    "!pwd"
   ]
  },
  {
   "cell_type": "code",
   "execution_count": 2,
   "id": "8e211622",
   "metadata": {},
   "outputs": [],
   "source": [
    "import requests\n",
    "import json\n",
    "import os\n",
    "import pathlib\n",
    "import subprocess\n",
    "import time"
   ]
  },
  {
   "cell_type": "code",
   "execution_count": 3,
   "id": "a2ba32dc",
   "metadata": {},
   "outputs": [],
   "source": [
    "download_base = '/storage/home/hhive1/schockalingam6/data2/airavata-cerebrum/brain_atlases/abc_mouse' # Change path"
   ]
  },
  {
   "cell_type": "code",
   "execution_count": 4,
   "id": "21e42510",
   "metadata": {},
   "outputs": [
    {
     "name": "stdout",
     "output_type": "stream",
     "text": [
      "version:  20231215\n"
     ]
    }
   ],
   "source": [
    "version = '20231215'\n",
    "url = 'https://allen-brain-cell-atlas.s3-us-west-2.amazonaws.com/releases/%s/manifest.json' % version\n",
    "manifest = json.loads(requests.get(url).text)\n",
    "print(\"version: \", manifest['version'])"
   ]
  },
  {
   "cell_type": "code",
   "execution_count": 5,
   "id": "ea3b945f",
   "metadata": {},
   "outputs": [
    {
     "name": "stdout",
     "output_type": "stream",
     "text": [
      "{'version': '20230830', 'relative_path': 'expression_matrices/MERFISH-C57BL6J-638850/20230830', 'url': 'https://allen-brain-cell-atlas.s3.us-west-2.amazonaws.com/expression_matrices/MERFISH-C57BL6J-638850/20230830/', 'view_link': 'https://allen-brain-cell-atlas.s3.us-west-2.amazonaws.com/index.html#expression_matrices/MERFISH-C57BL6J-638850/20230830/', 'total_size': 15255179148}\n",
      "https://allen-brain-cell-atlas.s3.us-west-2.amazonaws.com/index.html#expression_matrices/MERFISH-C57BL6J-638850/20230830/\n"
     ]
    }
   ],
   "source": [
    "expression_matrices = manifest['directory_listing']['MERFISH-C57BL6J-638850']['directories']['expression_matrices']\n",
    "print(expression_matrices)\n",
    "print(expression_matrices['view_link'])"
   ]
  },
  {
   "cell_type": "code",
   "execution_count": 6,
   "id": "91b06e3e",
   "metadata": {},
   "outputs": [
    {
     "name": "stdout",
     "output_type": "stream",
     "text": [
      "{'version': '20231215', 'relative_path': 'metadata/MERFISH-C57BL6J-638850/20231215', 'url': 'https://allen-brain-cell-atlas.s3.us-west-2.amazonaws.com/metadata/MERFISH-C57BL6J-638850/20231215/', 'view_link': 'https://allen-brain-cell-atlas.s3.us-west-2.amazonaws.com/index.html#metadata/MERFISH-C57BL6J-638850/20231215/', 'total_size': 1942629358}\n",
      "https://allen-brain-cell-atlas.s3.us-west-2.amazonaws.com/index.html#metadata/MERFISH-C57BL6J-638850/20231215/\n"
     ]
    }
   ],
   "source": [
    "metadata = manifest['directory_listing']['MERFISH-C57BL6J-638850']['directories']['metadata']\n",
    "print(metadata)\n",
    "print(metadata['view_link'])"
   ]
  },
  {
   "cell_type": "code",
   "execution_count": 7,
   "id": "b1f2108f",
   "metadata": {},
   "outputs": [
    {
     "name": "stdout",
     "output_type": "stream",
     "text": [
      "expression_matrices/MERFISH-C57BL6J-638850/20230830 : 14.21 GB\n",
      "metadata/MERFISH-C57BL6J-638850/20231215 : 1.81 GB\n",
      "expression_matrices/MERFISH-C57BL6J-638850-sections/20230630 : 14.31 GB\n",
      "expression_matrices/WMB-10Xv2/20230630 : 104.16 GB\n",
      "expression_matrices/WMB-10Xv3/20230630 : 176.41 GB\n",
      "expression_matrices/WMB-10XMulti/20230830 : 0.21 GB\n",
      "metadata/WMB-10X/20231215 : 2.39 GB\n",
      "metadata/WMB-taxonomy/20231215 : 0.01 GB\n",
      "metadata/WMB-neighborhoods/20231215 : 3.00 GB\n",
      "image_volumes/Allen-CCF-2020/20230630 : 0.37 GB\n",
      "metadata/Allen-CCF-2020/20230630 : 0.00 GB\n",
      "image_volumes/MERFISH-C57BL6J-638850-CCF/20230630 : 0.11 GB\n",
      "metadata/MERFISH-C57BL6J-638850-CCF/20231215 : 2.01 GB\n",
      "expression_matrices/Zhuang-ABCA-1/20230830 : 3.09 GB\n",
      "metadata/Zhuang-ABCA-1/20231215 : 1.33 GB\n",
      "metadata/Zhuang-ABCA-1-CCF/20230830 : 0.21 GB\n",
      "expression_matrices/Zhuang-ABCA-2/20230830 : 1.30 GB\n",
      "metadata/Zhuang-ABCA-2/20231215 : 0.57 GB\n",
      "metadata/Zhuang-ABCA-2-CCF/20230830 : 0.08 GB\n",
      "expression_matrices/Zhuang-ABCA-3/20230830 : 1.69 GB\n",
      "metadata/Zhuang-ABCA-3/20231215 : 0.74 GB\n",
      "metadata/Zhuang-ABCA-3-CCF/20230830 : 0.12 GB\n",
      "expression_matrices/Zhuang-ABCA-4/20230830 : 0.16 GB\n",
      "metadata/Zhuang-ABCA-4/20231215 : 0.08 GB\n",
      "metadata/Zhuang-ABCA-4-CCF/20230830 : 0.01 GB\n"
     ]
    }
   ],
   "source": [
    "GB = float(float(1024) ** 3)\n",
    "\n",
    "for r in manifest['directory_listing'] :    \n",
    "    r_dict =  manifest['directory_listing'][r]\n",
    "    for d in r_dict['directories'] :\n",
    "        d_dict = r_dict['directories'][d]        \n",
    "        print(d_dict['relative_path'],\":\",'%0.2f GB' % (d_dict['total_size']/GB))"
   ]
  },
  {
   "cell_type": "code",
   "execution_count": 8,
   "id": "c5cfb07a-6340-46a9-ab5d-452bbbe26620",
   "metadata": {
    "scrolled": true
   },
   "outputs": [
    {
     "data": {
      "text/plain": [
       "{'version': '20230630',\n",
       " 'relative_path': 'expression_matrices/WMB-10Xv3/20230630',\n",
       " 'url': 'https://allen-brain-cell-atlas.s3.us-west-2.amazonaws.com/expression_matrices/WMB-10Xv3/20230630/',\n",
       " 'view_link': 'https://allen-brain-cell-atlas.s3.us-west-2.amazonaws.com/index.html#expression_matrices/WMB-10Xv3/20230630/',\n",
       " 'total_size': 189424020276}"
      ]
     },
     "execution_count": 8,
     "metadata": {},
     "output_type": "execute_result"
    }
   ],
   "source": [
    "manifest['directory_listing']['WMB-10Xv3']['directories']['expression_matrices']"
   ]
  },
  {
   "cell_type": "code",
   "execution_count": 8,
   "id": "b7f4a504",
   "metadata": {},
   "outputs": [],
   "source": [
    "def download_file( file_dict ) :\n",
    "    \n",
    "    print(file_dict['relative_path'],file_dict['size'])\n",
    "    local_path = os.path.join( download_base, file_dict['relative_path'] )\n",
    "    local_path = pathlib.Path( local_path )\n",
    "    remote_path = manifest['resource_uri'] + file_dict['relative_path']\n",
    "\n",
    "    command = \"aws s3 cp --no-sign-request %s %s\" % (remote_path, local_path)\n",
    "    print(command)\n",
    "\n",
    "    start = time.process_time()\n",
    "    # Uncomment to download file\n",
    "    result = subprocess.run(command.split(' '),stdout=subprocess.PIPE)\n",
    "    print(\"time taken: \", time.process_time() - start)"
   ]
  },
  {
   "cell_type": "code",
   "execution_count": 15,
   "id": "a6d5d300",
   "metadata": {},
   "outputs": [
    {
     "name": "stdout",
     "output_type": "stream",
     "text": [
      "aws s3 sync --no-sign-request s3://allen-brain-cell-atlas/metadata/MERFISH-C57BL6J-638850/20231215 /storage/home/hhive1/schockalingam6/data2/airavata-cerebrum/brain_atlases/abc_mouse/metadata/MERFISH-C57BL6J-638850/20231215\n",
      "time taken:  0.06674595500000002\n",
      "aws s3 sync --no-sign-request s3://allen-brain-cell-atlas/metadata/WMB-10X/20231215 /storage/home/hhive1/schockalingam6/data2/airavata-cerebrum/brain_atlases/abc_mouse/metadata/WMB-10X/20231215\n",
      "time taken:  0.08238954900000017\n",
      "aws s3 sync --no-sign-request s3://allen-brain-cell-atlas/metadata/WMB-taxonomy/20231215 /storage/home/hhive1/schockalingam6/data2/airavata-cerebrum/brain_atlases/abc_mouse/metadata/WMB-taxonomy/20231215\n",
      "time taken:  0.007156646999999516\n",
      "aws s3 sync --no-sign-request s3://allen-brain-cell-atlas/metadata/WMB-neighborhoods/20231215 /storage/home/hhive1/schockalingam6/data2/airavata-cerebrum/brain_atlases/abc_mouse/metadata/WMB-neighborhoods/20231215\n",
      "time taken:  0.10015038199999982\n",
      "aws s3 sync --no-sign-request s3://allen-brain-cell-atlas/metadata/Allen-CCF-2020/20230630 /storage/home/hhive1/schockalingam6/data2/airavata-cerebrum/brain_atlases/abc_mouse/metadata/Allen-CCF-2020/20230630\n",
      "time taken:  0.007241454999999952\n",
      "aws s3 sync --no-sign-request s3://allen-brain-cell-atlas/metadata/MERFISH-C57BL6J-638850-CCF/20231215 /storage/home/hhive1/schockalingam6/data2/airavata-cerebrum/brain_atlases/abc_mouse/metadata/MERFISH-C57BL6J-638850-CCF/20231215\n",
      "time taken:  0.06825345800000004\n",
      "aws s3 sync --no-sign-request s3://allen-brain-cell-atlas/metadata/Zhuang-ABCA-1/20231215 /storage/home/hhive1/schockalingam6/data2/airavata-cerebrum/brain_atlases/abc_mouse/metadata/Zhuang-ABCA-1/20231215\n",
      "time taken:  0.04731569499999999\n",
      "aws s3 sync --no-sign-request s3://allen-brain-cell-atlas/metadata/Zhuang-ABCA-1-CCF/20230830 /storage/home/hhive1/schockalingam6/data2/airavata-cerebrum/brain_atlases/abc_mouse/metadata/Zhuang-ABCA-1-CCF/20230830\n",
      "time taken:  0.01335696399999975\n",
      "aws s3 sync --no-sign-request s3://allen-brain-cell-atlas/metadata/Zhuang-ABCA-2/20231215 /storage/home/hhive1/schockalingam6/data2/airavata-cerebrum/brain_atlases/abc_mouse/metadata/Zhuang-ABCA-2/20231215\n",
      "time taken:  0.02379767099999963\n",
      "aws s3 sync --no-sign-request s3://allen-brain-cell-atlas/metadata/Zhuang-ABCA-2-CCF/20230830 /storage/home/hhive1/schockalingam6/data2/airavata-cerebrum/brain_atlases/abc_mouse/metadata/Zhuang-ABCA-2-CCF/20230830\n",
      "time taken:  0.009799082999999875\n",
      "aws s3 sync --no-sign-request s3://allen-brain-cell-atlas/metadata/Zhuang-ABCA-3/20231215 /storage/home/hhive1/schockalingam6/data2/airavata-cerebrum/brain_atlases/abc_mouse/metadata/Zhuang-ABCA-3/20231215\n",
      "time taken:  0.02873790800000009\n",
      "aws s3 sync --no-sign-request s3://allen-brain-cell-atlas/metadata/Zhuang-ABCA-3-CCF/20230830 /storage/home/hhive1/schockalingam6/data2/airavata-cerebrum/brain_atlases/abc_mouse/metadata/Zhuang-ABCA-3-CCF/20230830\n",
      "time taken:  0.010667589999999727\n",
      "aws s3 sync --no-sign-request s3://allen-brain-cell-atlas/metadata/Zhuang-ABCA-4/20231215 /storage/home/hhive1/schockalingam6/data2/airavata-cerebrum/brain_atlases/abc_mouse/metadata/Zhuang-ABCA-4/20231215\n",
      "time taken:  0.009386333000000135\n",
      "aws s3 sync --no-sign-request s3://allen-brain-cell-atlas/metadata/Zhuang-ABCA-4-CCF/20230830 /storage/home/hhive1/schockalingam6/data2/airavata-cerebrum/brain_atlases/abc_mouse/metadata/Zhuang-ABCA-4-CCF/20230830\n",
      "time taken:  0.00723053699999987\n"
     ]
    }
   ],
   "source": [
    "# Downloading meta data\n",
    "\n",
    "for r in manifest['directory_listing'] :\n",
    "    \n",
    "    r_dict =  manifest['directory_listing'][r]\n",
    "    \n",
    "    for d in r_dict['directories'] :\n",
    "        \n",
    "        if d != 'metadata' :\n",
    "            continue\n",
    "        d_dict = r_dict['directories'][d]\n",
    "        local_path = os.path.join( download_base, d_dict['relative_path'])\n",
    "        local_path = pathlib.Path( local_path )\n",
    "        remote_path = manifest['resource_uri'] + d_dict['relative_path']\n",
    "        \n",
    "        command = \"aws s3 sync --no-sign-request %s %s\" % (remote_path, local_path)\n",
    "        print(command)\n",
    "        \n",
    "        start = time.process_time()\n",
    "        # Uncomment to download directories\n",
    "        result = subprocess.run(command.split(),stdout=subprocess.PIPE)\n",
    "        print(\"time taken: \", time.process_time() - start)"
   ]
  },
  {
   "cell_type": "code",
   "execution_count": 9,
   "id": "7562b98e",
   "metadata": {},
   "outputs": [
    {
     "name": "stdout",
     "output_type": "stream",
     "text": [
      "size: 4038679930\n",
      "expression_matrices/WMB-10Xv2/20230630/WMB-10Xv2-TH-log2.h5ad 4038679930\n",
      "aws s3 cp --no-sign-request s3://allen-brain-cell-atlas/expression_matrices/WMB-10Xv2/20230630/WMB-10Xv2-TH-log2.h5ad /storage/home/hhive1/schockalingam6/data2/airavata-cerebrum/brain_atlases/abc_mouse/expression_matrices/WMB-10Xv2/20230630/WMB-10Xv2-TH-log2.h5ad\n",
      "time taken:  0.12383668000000014\n"
     ]
    }
   ],
   "source": [
    "# Downloading data Expresssion matrices \n",
    "expression_matrices = manifest['file_listing']['WMB-10Xv2']['expression_matrices']\n",
    "file_dict = expression_matrices['WMB-10Xv2-TH']['log2']['files']['h5ad']\n",
    "print('size:',file_dict['size'])\n",
    "download_file( file_dict )\n"
   ]
  },
  {
   "cell_type": "code",
   "execution_count": 10,
   "id": "b48ab916",
   "metadata": {},
   "outputs": [
    {
     "name": "stdout",
     "output_type": "stream",
     "text": [
      "size: 7627589574\n",
      "expression_matrices/MERFISH-C57BL6J-638850/20230830/C57BL6J-638850-log2.h5ad 7627589574\n",
      "aws s3 cp --no-sign-request s3://allen-brain-cell-atlas/expression_matrices/MERFISH-C57BL6J-638850/20230830/C57BL6J-638850-log2.h5ad /storage/home/hhive1/schockalingam6/data2/airavata-cerebrum/brain_atlases/abc_mouse/expression_matrices/MERFISH-C57BL6J-638850/20230830/C57BL6J-638850-log2.h5ad\n",
      "time taken:  0.22253617000000014\n"
     ]
    }
   ],
   "source": [
    "# Downloading the MERFISH expression matrix\n",
    "datasets = ['MERFISH-C57BL6J-638850']\n",
    "for d in datasets :\n",
    "    expression_matrices = manifest['file_listing'][d]['expression_matrices']\n",
    "    file_dict = expression_matrices['C57BL6J-638850']['log2']['files']['h5ad']\n",
    "    print('size:',file_dict['size'])\n",
    "    download_file( file_dict )"
   ]
  },
  {
   "cell_type": "code",
   "execution_count": 11,
   "id": "96930403",
   "metadata": {},
   "outputs": [
    {
     "name": "stdout",
     "output_type": "stream",
     "text": [
      "size: 2128478610\n",
      "expression_matrices/Zhuang-ABCA-1/20230830/Zhuang-ABCA-1-log2.h5ad 2128478610\n",
      "aws s3 cp --no-sign-request s3://allen-brain-cell-atlas/expression_matrices/Zhuang-ABCA-1/20230830/Zhuang-ABCA-1-log2.h5ad /storage/home/hhive1/schockalingam6/data2/airavata-cerebrum/brain_atlases/abc_mouse/expression_matrices/Zhuang-ABCA-1/20230830/Zhuang-ABCA-1-log2.h5ad\n",
      "time taken:  0.0719626480000004\n",
      "size: 871420938\n",
      "expression_matrices/Zhuang-ABCA-2/20230830/Zhuang-ABCA-2-log2.h5ad 871420938\n",
      "aws s3 cp --no-sign-request s3://allen-brain-cell-atlas/expression_matrices/Zhuang-ABCA-2/20230830/Zhuang-ABCA-2-log2.h5ad /storage/home/hhive1/schockalingam6/data2/airavata-cerebrum/brain_atlases/abc_mouse/expression_matrices/Zhuang-ABCA-2/20230830/Zhuang-ABCA-2-log2.h5ad\n",
      "time taken:  0.03071456000000028\n",
      "size: 1160586154\n",
      "expression_matrices/Zhuang-ABCA-3/20230830/Zhuang-ABCA-3-log2.h5ad 1160586154\n",
      "aws s3 cp --no-sign-request s3://allen-brain-cell-atlas/expression_matrices/Zhuang-ABCA-3/20230830/Zhuang-ABCA-3-log2.h5ad /storage/home/hhive1/schockalingam6/data2/airavata-cerebrum/brain_atlases/abc_mouse/expression_matrices/Zhuang-ABCA-3/20230830/Zhuang-ABCA-3-log2.h5ad\n",
      "time taken:  0.04223485099999991\n",
      "size: 106739752\n",
      "expression_matrices/Zhuang-ABCA-4/20230830/Zhuang-ABCA-4-log2.h5ad 106739752\n",
      "aws s3 cp --no-sign-request s3://allen-brain-cell-atlas/expression_matrices/Zhuang-ABCA-4/20230830/Zhuang-ABCA-4-log2.h5ad /storage/home/hhive1/schockalingam6/data2/airavata-cerebrum/brain_atlases/abc_mouse/expression_matrices/Zhuang-ABCA-4/20230830/Zhuang-ABCA-4-log2.h5ad\n",
      "time taken:  0.00943463400000022\n"
     ]
    }
   ],
   "source": [
    "# Downloading the MERFISH expression matrix\n",
    "\n",
    "datasets = ['Zhuang-ABCA-1','Zhuang-ABCA-2','Zhuang-ABCA-3','Zhuang-ABCA-4']\n",
    "for d in datasets :\n",
    "    expression_matrices = manifest['file_listing'][d]['expression_matrices']\n",
    "    file_dict = expression_matrices[d]['log2']['files']['h5ad']\n",
    "    print('size:',file_dict['size'])\n",
    "    download_file( file_dict )"
   ]
  },
  {
   "cell_type": "code",
   "execution_count": 9,
   "id": "291507f2-ba6e-47e2-bdb1-4701f398b60b",
   "metadata": {},
   "outputs": [
    {
     "name": "stdout",
     "output_type": "stream",
     "text": [
      "aws s3 sync --no-sign-request s3://allen-brain-cell-atlas/image_volumes/Allen-CCF-2020/20230630 /storage/home/hhive1/schockalingam6/data2/airavata-cerebrum/brain_atlases/abc_mouse/image_volumes/Allen-CCF-2020/20230630\n",
      "time taken:  0.01990940199999991\n",
      "aws s3 sync --no-sign-request s3://allen-brain-cell-atlas/image_volumes/MERFISH-C57BL6J-638850-CCF/20230630 /storage/home/hhive1/schockalingam6/data2/airavata-cerebrum/brain_atlases/abc_mouse/image_volumes/MERFISH-C57BL6J-638850-CCF/20230630\n",
      "time taken:  0.009853375000000053\n"
     ]
    }
   ],
   "source": [
    "for r in manifest['directory_listing'] :\n",
    "    \n",
    "    r_dict =  manifest['directory_listing'][r]\n",
    "    \n",
    "    for d in r_dict['directories'] :\n",
    "        \n",
    "        if d != 'image_volumes' :\n",
    "            continue\n",
    "        d_dict = r_dict['directories'][d]\n",
    "        local_path = os.path.join( download_base, d_dict['relative_path'])\n",
    "        local_path = pathlib.Path( local_path )\n",
    "        remote_path = manifest['resource_uri'] + d_dict['relative_path']\n",
    "        \n",
    "        command = \"aws s3 sync --no-sign-request %s %s\" % (remote_path, local_path)\n",
    "        print(command)\n",
    "        \n",
    "        start = time.process_time()\n",
    "        # Uncomment to download directories\n",
    "        result = subprocess.run(command.split(),stdout=subprocess.PIPE)\n",
    "        print(\"time taken: \", time.process_time() - start)\n",
    "  "
   ]
  },
  {
   "cell_type": "code",
   "execution_count": null,
   "id": "eb374465-1458-4b48-96cb-91189f19bffe",
   "metadata": {},
   "outputs": [],
   "source": []
  }
 ],
 "metadata": {
  "kernelspec": {
   "display_name": "Python 3 (ipykernel)",
   "language": "python",
   "name": "python3"
  },
  "language_info": {
   "codemirror_mode": {
    "name": "ipython",
    "version": 3
   },
   "file_extension": ".py",
   "mimetype": "text/x-python",
   "name": "python",
   "nbconvert_exporter": "python",
   "pygments_lexer": "ipython3",
   "version": "3.10.13"
  }
 },
 "nbformat": 4,
 "nbformat_minor": 5
}
